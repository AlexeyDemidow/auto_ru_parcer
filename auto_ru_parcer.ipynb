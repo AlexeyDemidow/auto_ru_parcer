{
 "cells": [
  {
   "cell_type": "code",
   "execution_count": 14,
   "metadata": {
    "collapsed": true,
    "pycharm": {
     "name": "#%%\n"
    }
   },
   "outputs": [],
   "source": [
    "# Парсер объявлений на сайте auto.ru по тестовому заданию на стажера тех отдела TrainingData.Solutions"
   ]
  },
  {
   "cell_type": "code",
   "execution_count": 15,
   "outputs": [],
   "source": [
    "from bs4 import BeautifulSoup\n",
    "from selenium import webdriver\n",
    "from selenium.webdriver.chrome.service import Service as ChromeService\n",
    "from webdriver_manager.chrome import ChromeDriverManager\n",
    "import os\n",
    "from selenium.webdriver.common.by import By\n",
    "from selenium.webdriver.chrome.options import Options\n",
    "from selenium.webdriver.common.keys import Keys\n",
    "from selenium.webdriver.support.ui import WebDriverWait\n",
    "from selenium.webdriver.support import expected_conditions as ec\n",
    "from tqdm import tqdm\n",
    "import requests\n",
    "\n",
    "from selenium.common import TimeoutException"
   ],
   "metadata": {
    "collapsed": false,
    "pycharm": {
     "name": "#%%\n"
    }
   }
  },
  {
   "cell_type": "code",
   "execution_count": 16,
   "outputs": [
    {
     "ename": "NoSuchWindowException",
     "evalue": "Message: no such window: target window already closed\nfrom unknown error: web view not found\n  (Session info: chrome=120.0.6099.71)\nStacktrace:\n\tGetHandleVerifier [0x00007FF7FDCC4D02+56194]\n\t(No symbol) [0x00007FF7FDC304B2]\n\t(No symbol) [0x00007FF7FDAD76AA]\n\t(No symbol) [0x00007FF7FDAB0AFD]\n\t(No symbol) [0x00007FF7FDB4C9AB]\n\t(No symbol) [0x00007FF7FDB6201F]\n\t(No symbol) [0x00007FF7FDB45C23]\n\t(No symbol) [0x00007FF7FDB14A45]\n\t(No symbol) [0x00007FF7FDB15AD4]\n\tGetHandleVerifier [0x00007FF7FE03D5BB+3695675]\n\tGetHandleVerifier [0x00007FF7FE096197+4059159]\n\tGetHandleVerifier [0x00007FF7FE08DF63+4025827]\n\tGetHandleVerifier [0x00007FF7FDD5F029+687785]\n\t(No symbol) [0x00007FF7FDC3B508]\n\t(No symbol) [0x00007FF7FDC37564]\n\t(No symbol) [0x00007FF7FDC376E9]\n\t(No symbol) [0x00007FF7FDC28094]\n\tBaseThreadInitThunk [0x00007FFC6200257D+29]\n\tRtlUserThreadStart [0x00007FFC6336AA58+40]\n",
     "output_type": "error",
     "traceback": [
      "\u001B[1;31m---------------------------------------------------------------------------\u001B[0m",
      "\u001B[1;31mNoSuchWindowException\u001B[0m                     Traceback (most recent call last)",
      "Cell \u001B[1;32mIn[16], line 15\u001B[0m\n\u001B[0;32m     13\u001B[0m \u001B[38;5;28;01mif\u001B[39;00m webdriver\u001B[38;5;241m.\u001B[39mfind_elements(By\u001B[38;5;241m.\u001B[39mXPATH, \u001B[38;5;124m'\u001B[39m\u001B[38;5;124m/html/body/div[1]/div/div/form/div[3]/div/div[1]/div[1]/input\u001B[39m\u001B[38;5;124m'\u001B[39m):\n\u001B[0;32m     14\u001B[0m     WebDriverWait(webdriver, \u001B[38;5;241m15\u001B[39m)\u001B[38;5;241m.\u001B[39muntil(ec\u001B[38;5;241m.\u001B[39melement_to_be_clickable((By\u001B[38;5;241m.\u001B[39mXPATH, \u001B[38;5;124m'\u001B[39m\u001B[38;5;124m/html/body/div[1]/div/div/form/div[3]/div/div[1]/div[1]/input\u001B[39m\u001B[38;5;124m'\u001B[39m)))\u001B[38;5;241m.\u001B[39mclick()\n\u001B[1;32m---> 15\u001B[0m \u001B[43mWebDriverWait\u001B[49m\u001B[43m(\u001B[49m\u001B[43mwebdriver\u001B[49m\u001B[43m,\u001B[49m\u001B[43m \u001B[49m\u001B[38;5;241;43m20\u001B[39;49m\u001B[43m)\u001B[49m\u001B[38;5;241;43m.\u001B[39;49m\u001B[43muntil\u001B[49m\u001B[43m(\u001B[49m\u001B[43mec\u001B[49m\u001B[38;5;241;43m.\u001B[39;49m\u001B[43mpresence_of_element_located\u001B[49m\u001B[43m(\u001B[49m\u001B[43m(\u001B[49m\u001B[43mBy\u001B[49m\u001B[38;5;241;43m.\u001B[39;49m\u001B[43mXPATH\u001B[49m\u001B[43m,\u001B[49m\u001B[43m \u001B[49m\u001B[38;5;124;43m'\u001B[39;49m\u001B[38;5;124;43m/html/body/div[3]/div/div/div[2]\u001B[39;49m\u001B[38;5;124;43m'\u001B[39;49m\u001B[43m)\u001B[49m\u001B[43m)\u001B[49m\u001B[43m)\u001B[49m\n\u001B[0;32m     16\u001B[0m \u001B[38;5;28;01mif\u001B[39;00m webdriver\u001B[38;5;241m.\u001B[39mfind_elements(By\u001B[38;5;241m.\u001B[39mXPATH, \u001B[38;5;124m'\u001B[39m\u001B[38;5;124m/html/body/div[3]/div/div/div[2]\u001B[39m\u001B[38;5;124m'\u001B[39m):\n\u001B[0;32m     17\u001B[0m     WebDriverWait(webdriver, \u001B[38;5;241m15\u001B[39m)\u001B[38;5;241m.\u001B[39muntil(ec\u001B[38;5;241m.\u001B[39melement_to_be_clickable((By\u001B[38;5;241m.\u001B[39mXPATH, \u001B[38;5;124m'\u001B[39m\u001B[38;5;124m/html/body/div[3]/div/div/div[2]\u001B[39m\u001B[38;5;124m'\u001B[39m)))\u001B[38;5;241m.\u001B[39mclick()\n",
      "File \u001B[1;32m~\\.virtualenvs\\auto_ru_parcer-4svEMDPr\\Lib\\site-packages\\selenium\\webdriver\\support\\wait.py:92\u001B[0m, in \u001B[0;36mWebDriverWait.until\u001B[1;34m(self, method, message)\u001B[0m\n\u001B[0;32m     90\u001B[0m \u001B[38;5;28;01mwhile\u001B[39;00m \u001B[38;5;28;01mTrue\u001B[39;00m:\n\u001B[0;32m     91\u001B[0m     \u001B[38;5;28;01mtry\u001B[39;00m:\n\u001B[1;32m---> 92\u001B[0m         value \u001B[38;5;241m=\u001B[39m \u001B[43mmethod\u001B[49m\u001B[43m(\u001B[49m\u001B[38;5;28;43mself\u001B[39;49m\u001B[38;5;241;43m.\u001B[39;49m\u001B[43m_driver\u001B[49m\u001B[43m)\u001B[49m\n\u001B[0;32m     93\u001B[0m         \u001B[38;5;28;01mif\u001B[39;00m value:\n\u001B[0;32m     94\u001B[0m             \u001B[38;5;28;01mreturn\u001B[39;00m value\n",
      "File \u001B[1;32m~\\.virtualenvs\\auto_ru_parcer-4svEMDPr\\Lib\\site-packages\\selenium\\webdriver\\support\\expected_conditions.py:80\u001B[0m, in \u001B[0;36mpresence_of_element_located.<locals>._predicate\u001B[1;34m(driver)\u001B[0m\n\u001B[0;32m     79\u001B[0m \u001B[38;5;28;01mdef\u001B[39;00m \u001B[38;5;21m_predicate\u001B[39m(driver: WebDriver):\n\u001B[1;32m---> 80\u001B[0m     \u001B[38;5;28;01mreturn\u001B[39;00m \u001B[43mdriver\u001B[49m\u001B[38;5;241;43m.\u001B[39;49m\u001B[43mfind_element\u001B[49m\u001B[43m(\u001B[49m\u001B[38;5;241;43m*\u001B[39;49m\u001B[43mlocator\u001B[49m\u001B[43m)\u001B[49m\n",
      "File \u001B[1;32m~\\.virtualenvs\\auto_ru_parcer-4svEMDPr\\Lib\\site-packages\\selenium\\webdriver\\remote\\webdriver.py:741\u001B[0m, in \u001B[0;36mWebDriver.find_element\u001B[1;34m(self, by, value)\u001B[0m\n\u001B[0;32m    738\u001B[0m     by \u001B[38;5;241m=\u001B[39m By\u001B[38;5;241m.\u001B[39mCSS_SELECTOR\n\u001B[0;32m    739\u001B[0m     value \u001B[38;5;241m=\u001B[39m \u001B[38;5;124mf\u001B[39m\u001B[38;5;124m'\u001B[39m\u001B[38;5;124m[name=\u001B[39m\u001B[38;5;124m\"\u001B[39m\u001B[38;5;132;01m{\u001B[39;00mvalue\u001B[38;5;132;01m}\u001B[39;00m\u001B[38;5;124m\"\u001B[39m\u001B[38;5;124m]\u001B[39m\u001B[38;5;124m'\u001B[39m\n\u001B[1;32m--> 741\u001B[0m \u001B[38;5;28;01mreturn\u001B[39;00m \u001B[38;5;28;43mself\u001B[39;49m\u001B[38;5;241;43m.\u001B[39;49m\u001B[43mexecute\u001B[49m\u001B[43m(\u001B[49m\u001B[43mCommand\u001B[49m\u001B[38;5;241;43m.\u001B[39;49m\u001B[43mFIND_ELEMENT\u001B[49m\u001B[43m,\u001B[49m\u001B[43m \u001B[49m\u001B[43m{\u001B[49m\u001B[38;5;124;43m\"\u001B[39;49m\u001B[38;5;124;43musing\u001B[39;49m\u001B[38;5;124;43m\"\u001B[39;49m\u001B[43m:\u001B[49m\u001B[43m \u001B[49m\u001B[43mby\u001B[49m\u001B[43m,\u001B[49m\u001B[43m \u001B[49m\u001B[38;5;124;43m\"\u001B[39;49m\u001B[38;5;124;43mvalue\u001B[39;49m\u001B[38;5;124;43m\"\u001B[39;49m\u001B[43m:\u001B[49m\u001B[43m \u001B[49m\u001B[43mvalue\u001B[49m\u001B[43m}\u001B[49m\u001B[43m)\u001B[49m[\u001B[38;5;124m\"\u001B[39m\u001B[38;5;124mvalue\u001B[39m\u001B[38;5;124m\"\u001B[39m]\n",
      "File \u001B[1;32m~\\.virtualenvs\\auto_ru_parcer-4svEMDPr\\Lib\\site-packages\\selenium\\webdriver\\remote\\webdriver.py:347\u001B[0m, in \u001B[0;36mWebDriver.execute\u001B[1;34m(self, driver_command, params)\u001B[0m\n\u001B[0;32m    345\u001B[0m response \u001B[38;5;241m=\u001B[39m \u001B[38;5;28mself\u001B[39m\u001B[38;5;241m.\u001B[39mcommand_executor\u001B[38;5;241m.\u001B[39mexecute(driver_command, params)\n\u001B[0;32m    346\u001B[0m \u001B[38;5;28;01mif\u001B[39;00m response:\n\u001B[1;32m--> 347\u001B[0m     \u001B[38;5;28;43mself\u001B[39;49m\u001B[38;5;241;43m.\u001B[39;49m\u001B[43merror_handler\u001B[49m\u001B[38;5;241;43m.\u001B[39;49m\u001B[43mcheck_response\u001B[49m\u001B[43m(\u001B[49m\u001B[43mresponse\u001B[49m\u001B[43m)\u001B[49m\n\u001B[0;32m    348\u001B[0m     response[\u001B[38;5;124m\"\u001B[39m\u001B[38;5;124mvalue\u001B[39m\u001B[38;5;124m\"\u001B[39m] \u001B[38;5;241m=\u001B[39m \u001B[38;5;28mself\u001B[39m\u001B[38;5;241m.\u001B[39m_unwrap_value(response\u001B[38;5;241m.\u001B[39mget(\u001B[38;5;124m\"\u001B[39m\u001B[38;5;124mvalue\u001B[39m\u001B[38;5;124m\"\u001B[39m, \u001B[38;5;28;01mNone\u001B[39;00m))\n\u001B[0;32m    349\u001B[0m     \u001B[38;5;28;01mreturn\u001B[39;00m response\n",
      "File \u001B[1;32m~\\.virtualenvs\\auto_ru_parcer-4svEMDPr\\Lib\\site-packages\\selenium\\webdriver\\remote\\errorhandler.py:229\u001B[0m, in \u001B[0;36mErrorHandler.check_response\u001B[1;34m(self, response)\u001B[0m\n\u001B[0;32m    227\u001B[0m         alert_text \u001B[38;5;241m=\u001B[39m value[\u001B[38;5;124m\"\u001B[39m\u001B[38;5;124malert\u001B[39m\u001B[38;5;124m\"\u001B[39m]\u001B[38;5;241m.\u001B[39mget(\u001B[38;5;124m\"\u001B[39m\u001B[38;5;124mtext\u001B[39m\u001B[38;5;124m\"\u001B[39m)\n\u001B[0;32m    228\u001B[0m     \u001B[38;5;28;01mraise\u001B[39;00m exception_class(message, screen, stacktrace, alert_text)  \u001B[38;5;66;03m# type: ignore[call-arg]  # mypy is not smart enough here\u001B[39;00m\n\u001B[1;32m--> 229\u001B[0m \u001B[38;5;28;01mraise\u001B[39;00m exception_class(message, screen, stacktrace)\n",
      "\u001B[1;31mNoSuchWindowException\u001B[0m: Message: no such window: target window already closed\nfrom unknown error: web view not found\n  (Session info: chrome=120.0.6099.71)\nStacktrace:\n\tGetHandleVerifier [0x00007FF7FDCC4D02+56194]\n\t(No symbol) [0x00007FF7FDC304B2]\n\t(No symbol) [0x00007FF7FDAD76AA]\n\t(No symbol) [0x00007FF7FDAB0AFD]\n\t(No symbol) [0x00007FF7FDB4C9AB]\n\t(No symbol) [0x00007FF7FDB6201F]\n\t(No symbol) [0x00007FF7FDB45C23]\n\t(No symbol) [0x00007FF7FDB14A45]\n\t(No symbol) [0x00007FF7FDB15AD4]\n\tGetHandleVerifier [0x00007FF7FE03D5BB+3695675]\n\tGetHandleVerifier [0x00007FF7FE096197+4059159]\n\tGetHandleVerifier [0x00007FF7FE08DF63+4025827]\n\tGetHandleVerifier [0x00007FF7FDD5F029+687785]\n\t(No symbol) [0x00007FF7FDC3B508]\n\t(No symbol) [0x00007FF7FDC37564]\n\t(No symbol) [0x00007FF7FDC376E9]\n\t(No symbol) [0x00007FF7FDC28094]\n\tBaseThreadInitThunk [0x00007FFC6200257D+29]\n\tRtlUserThreadStart [0x00007FFC6336AA58+40]\n"
     ]
    }
   ],
   "source": [
    "options = Options()\n",
    "# options.add_argument('--headless')\n",
    "# options.add_argument(\"--disable-infobars\")\n",
    "# options.add_argument(\"--disable-extensions\")\n",
    "options.add_argument(\"--start-maximized\")\n",
    "# options.add_argument('--blink-settings=imagesEnabled=false')\n",
    "webdriver = webdriver.Chrome(options=options)\n",
    "webdriver.get(f'https://auto.ru/')\n",
    "\n",
    "\"\"\"Обходим капчу и всплывающие окна\"\"\"\n",
    "if webdriver.find_elements(By.XPATH, '//*[@id=\"confirm-button\"]'):\n",
    "    WebDriverWait(webdriver, 15).until(ec.element_to_be_clickable((By.XPATH, '//*[@id=\"confirm-button\"]'))).click()\n",
    "if webdriver.find_elements(By.XPATH, '/html/body/div[1]/div/div/form/div[3]/div/div[1]/div[1]/input'):\n",
    "    WebDriverWait(webdriver, 15).until(ec.element_to_be_clickable((By.XPATH, '/html/body/div[1]/div/div/form/div[3]/div/div[1]/div[1]/input'))).click()\n",
    "WebDriverWait(webdriver, 20).until(ec.presence_of_element_located((By.XPATH, '/html/body/div[3]/div/div/div[2]')))\n",
    "if webdriver.find_elements(By.XPATH, '/html/body/div[3]/div/div/div[2]'):\n",
    "    WebDriverWait(webdriver, 15).until(ec.element_to_be_clickable((By.XPATH, '/html/body/div[3]/div/div/div[2]'))).click()\n",
    "\n",
    "\"\"\"Создаем список из ссылок 10ти первых марок машин на сайте\"\"\"\n",
    "urls = []\n",
    "j = 2\n",
    "k = 0\n",
    "for i in range(1, 11):\n",
    "    car = webdriver.find_element(By.XPATH, f'//*[@id=\"LayoutIndex\"]/div/div/div[1]/div[1]/div[2]/div[2]/div/div[{str(j)}]/a[{str(i - k)}]')\n",
    "    car_url = car.get_attribute('href')\n",
    "    urls.append(car_url)\n",
    "    if i >= 7:\n",
    "        j = 3\n",
    "        k = 7\n",
    "\n",
    "\"\"\"Создаем директорию для хранения ссылок и сохраняем туда веб-страницы\"\"\"\n",
    "for i in range(len(urls)):\n",
    "    webdriver.get(urls[i])\n",
    "    car_brand = urls[i].split('/')[4]\n",
    "    if webdriver.find_elements(By.XPATH, '/html/body/div[1]/div/div/form/div[3]/div/div[1]/div[1]/input'):\n",
    "        WebDriverWait(webdriver, 5).until(ec.element_to_be_clickable((By.XPATH, '/html/body/div[1]/div/div/form/div[3]/div/div[1]/div[1]/input'))).click()\n",
    "    if webdriver.find_elements(By.XPATH, '/html/body/div[2]/div/div/div[2]'):\n",
    "        WebDriverWait(webdriver, 5).until(ec.element_to_be_clickable((By.XPATH, '/html/body/div[2]/div/div/div[2]'))).click()\n",
    "    webdriver.execute_script(\"window.scrollTo(0, 1080)\")\n",
    "\n",
    "    soup = BeautifulSoup(webdriver.page_source, 'html.parser')\n",
    "    car_brand_links_directory = 'brand_links/'\n",
    "    if not os.path.exists(car_brand_links_directory):\n",
    "        os.makedirs(car_brand_links_directory)\n",
    "    with open(f'{car_brand_links_directory}{car_brand}.html', 'w', encoding=\"utf-8\") as file:\n",
    "        file.write(str(soup))\n",
    "print(urls)\n",
    "webdriver.quit()"
   ],
   "metadata": {
    "collapsed": false,
    "pycharm": {
     "name": "#%%\n"
    }
   }
  },
  {
   "cell_type": "code",
   "execution_count": null,
   "outputs": [],
   "source": [
    "\"\"\"Отбираем по 10 первых моделей машин каждой марки\"\"\"\n",
    "car_links = []\n",
    "links_limit = 10\n",
    "brand_directory = 'brand_links'\n",
    "if not os.path.exists(brand_directory):\n",
    "    os.makedirs(brand_directory)\n",
    "for file in os.listdir(brand_directory):\n",
    "    soup = BeautifulSoup(open(f'{brand_directory}/{file}', 'r', encoding=\"utf-8\").read(), 'html.parser')\n",
    "    counter = 0\n",
    "    for div_class in soup.find_all('div', class_='ListingItem__main'):\n",
    "        try:\n",
    "            car_link = div_class.find('a', class_='Link ListingItemTitle__link').get('href')\n",
    "            car_links.append(car_link)\n",
    "            counter += 1\n",
    "            if counter >= links_limit:\n",
    "                break\n",
    "        except AttributeError:\n",
    "            continue"
   ],
   "metadata": {
    "collapsed": false,
    "pycharm": {
     "name": "#%%\n"
    }
   }
  },
  {
   "cell_type": "code",
   "execution_count": null,
   "outputs": [],
   "source": [
    "from selenium import webdriver\n",
    "\n",
    "options = Options()\n",
    "# options.add_argument('--headless')\n",
    "# options.add_argument(\"--disable-infobars\")\n",
    "# options.add_argument(\"--disable-extensions\")\n",
    "options.add_argument(\"--start-maximized\")\n",
    "# options.add_argument('--blink-settings=imagesEnabled=false')\n",
    "webdriver = webdriver.Chrome(options=options)\n",
    "\n",
    "\"\"\"Создаем директории марка машины/модель и загружаем туда до 5ти фото из объявления\"\"\"\n",
    "for i in tqdm(range(len(car_links))):\n",
    "    try:\n",
    "        webdriver.get(car_links[i])\n",
    "        car_brand = car_links[i].split('/')[6]\n",
    "\n",
    "        if webdriver.find_elements(By.XPATH, '//*[@id=\"confirm-button\"]'):\n",
    "            WebDriverWait(webdriver, 15).until(ec.element_to_be_clickable((By.XPATH, '//*[@id=\"confirm-button\"]'))).click()\n",
    "        if webdriver.find_elements(By.XPATH, '/html/body/div[1]/div/div/form/div[3]/div/div[1]/div[1]/input'):\n",
    "            WebDriverWait(webdriver, 15).until(ec.element_to_be_clickable((By.XPATH, '/html/body/div[1]/div/div/form/div[3]/div/div[1]/div[1]/input'))).click()\n",
    "        WebDriverWait(webdriver, 20).until(ec.presence_of_element_located((By.XPATH, '/html/body/div[3]/div/div/div[2]')))\n",
    "        if webdriver.find_elements(By.XPATH, '/html/body/div[3]/div/div/div[2]'):\n",
    "            WebDriverWait(webdriver, 15).until(ec.element_to_be_clickable((By.XPATH, '/html/body/div[3]/div/div/div[2]'))).click()\n",
    "\n",
    "        soup = BeautifulSoup(webdriver.page_source, 'html.parser')\n",
    "        title = soup.find('h1', class_='CardHead__title').text\n",
    "\n",
    "        if webdriver.find_element(By.XPATH, '//*[@id=\"app\"]/div/div[2]/div[3]/div/div[2]/div/div[2]/div/div[2]/div[5]/div[2]/div/div[2]/div[1]/div[4]/div/img'):\n",
    "            WebDriverWait(webdriver, 5).until(ec.element_to_be_clickable((By.XPATH, '//*[@id=\"app\"]/div/div[2]/div[3]/div/div[2]/div/div[2]/div/div[2]/div[5]/div[2]/div/div[2]/div[1]/div[4]/div/img'))).click()\n",
    "\n",
    "        images = webdriver.find_elements(By.CLASS_NAME, 'ImageGalleryFullscreenVertical__image')\n",
    "\n",
    "        image_count = 0\n",
    "        image_limit = 5\n",
    "        for index, image in enumerate(images):\n",
    "            image_url = image.get_attribute('src')\n",
    "            if image_url:\n",
    "                response = requests.get(image_url, stream=True)\n",
    "                result_directory = f'result/{car_brand}/{title}_{i}/'  # Добавляем i из-за наличия дубликатов в объявлениях\n",
    "                if not os.path.exists(result_directory):\n",
    "                    os.makedirs(result_directory)\n",
    "                image_path = os.path.join(result_directory, f'{title}_{index + 1}.jpg')\n",
    "\n",
    "                # Сохраняем изображение\n",
    "                with open(image_path, 'wb') as file:\n",
    "                    for chunk in response.iter_content(chunk_size=128):\n",
    "                        file.write(chunk)\n",
    "                image_count += 1\n",
    "\n",
    "                if image_count >= image_limit:\n",
    "                    break\n",
    "    except TimeoutException:\n",
    "        continue\n",
    "\n",
    "webdriver.quit()"
   ],
   "metadata": {
    "collapsed": false,
    "pycharm": {
     "name": "#%%\n"
    }
   }
  },
  {
   "cell_type": "code",
   "execution_count": null,
   "outputs": [],
   "source": [],
   "metadata": {
    "collapsed": false,
    "pycharm": {
     "name": "#%%\n"
    }
   }
  }
 ],
 "metadata": {
  "kernelspec": {
   "display_name": "Python 3",
   "language": "python",
   "name": "python3"
  },
  "language_info": {
   "codemirror_mode": {
    "name": "ipython",
    "version": 2
   },
   "file_extension": ".py",
   "mimetype": "text/x-python",
   "name": "python",
   "nbconvert_exporter": "python",
   "pygments_lexer": "ipython2",
   "version": "2.7.6"
  }
 },
 "nbformat": 4,
 "nbformat_minor": 0
}