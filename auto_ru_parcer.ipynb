{
 "cells": [
  {
   "cell_type": "code",
   "execution_count": 33,
   "metadata": {
    "collapsed": true,
    "pycharm": {
     "name": "#%%\n"
    }
   },
   "outputs": [],
   "source": [
    "# Парсер объявлений на сайте auto.ru по тестовому заданию на стажера тех отдела TrainingData.Solutions"
   ]
  },
  {
   "cell_type": "code",
   "execution_count": 34,
   "outputs": [],
   "source": [
    "import time\n",
    "import zipfile\n",
    "import shutil\n",
    "\n",
    "from bs4 import BeautifulSoup\n",
    "from selenium import webdriver\n",
    "from selenium.webdriver.chrome.service import Service as ChromeService\n",
    "from webdriver_manager.chrome import ChromeDriverManager\n",
    "import os\n",
    "from selenium.webdriver.common.by import By\n",
    "from selenium.webdriver.chrome.options import Options\n",
    "from selenium.webdriver.common.keys import Keys\n",
    "from selenium.webdriver.support.ui import WebDriverWait\n",
    "from selenium.webdriver.support import expected_conditions as ec\n",
    "from tqdm import tqdm\n",
    "import requests\n",
    "\n",
    "from selenium_stealth import stealth\n",
    "\n",
    "from selenium.common import TimeoutException\n",
    "from selenium.common import StaleElementReferenceException, WebDriverException"
   ],
   "metadata": {
    "collapsed": false,
    "pycharm": {
     "name": "#%%\n"
    }
   }
  },
  {
   "cell_type": "code",
   "execution_count": 35,
   "outputs": [],
   "source": [
    "options = Options()\n",
    "options.add_argument(\"--start-maximized\")\n",
    "\n",
    "options.add_argument('--disable-gpu')\n",
    "options.add_experimental_option(\"excludeSwitches\", [\"enable-automation\"])\n",
    "options.add_experimental_option('useAutomationExtension', False)\n",
    "\n",
    "chromedriver = 'chromedriver.exe'\n",
    "service = ChromeService(executable_path=chromedriver)\n",
    "webdriver = webdriver.Chrome(options=options, service=service)\n",
    "\n",
    "stealth(webdriver,\n",
    "        languages=[\"en-US\", \"en\"],\n",
    "        user_agent='Mozilla/5.0 (Windows NT 10.0; Win64; x64) AppleWebKit/537.36 (KHTML, like Gecko) Chrome/83.0.4103.53 Safari/537.36',\n",
    "        vendor=\"Google Inc.\",\n",
    "        platform=\"Win32\",\n",
    "        webgl_vendor=\"Intel Inc.\",\n",
    "        renderer=\"Intel Iris OpenGL Engine\",\n",
    "        fix_hairline=True,\n",
    "        )\n",
    "\n",
    "webdriver.get(f'https://auto.ru/')\n",
    "\n",
    "\"\"\"Обходим капчу и всплывающие окна\"\"\"\n",
    "if webdriver.find_elements(By.XPATH, '//*[@id=\"confirm-button\"]'):\n",
    "    WebDriverWait(webdriver, 5).until(ec.element_to_be_clickable((By.XPATH, '//*[@id=\"confirm-button\"]'))).click()\n",
    "if webdriver.find_elements(By.XPATH, '/html/body/div[1]/div/div/form/div[3]/div/div[1]/div[1]/input'):\n",
    "    WebDriverWait(webdriver, 5).until(ec.element_to_be_clickable((By.XPATH, '/html/body/div[1]/div/div/form/div[3]/div/div[1]/div[1]/input'))).click()\n",
    "time.sleep(3)\n",
    "if webdriver.find_elements(By.XPATH, '/html/body/div[3]/div/div/div[2]'):\n",
    "    WebDriverWait(webdriver, 1).until(ec.element_to_be_clickable((By.XPATH, '/html/body/div[3]/div/div/div[2]'))).click()\n",
    "\n",
    "\"\"\"Создаем список из ссылок 10ти первых марок машин на сайте\"\"\"\n",
    "\n",
    "urls = []\n",
    "car_col = webdriver.find_element(By.CLASS_NAME, f'IndexMarks').find_elements(By.CLASS_NAME, 'IndexMarks__col')\n",
    "for car_catalog in car_col:\n",
    "    car_brand_page = car_catalog.find_elements(By.TAG_NAME, 'a')\n",
    "    for car_link in car_brand_page:\n",
    "        urls.append(car_link.get_attribute('href'))\n",
    "urls = urls[:10]\n",
    "\n",
    "\"\"\"Создаем директорию для хранения ссылок и фотографий объявлений\"\"\"\n",
    "\n",
    "for i in range(len(urls)):\n",
    "    webdriver.get(urls[i])\n",
    "    car_brand = urls[i].split('/')[4]\n",
    "\n",
    "    if webdriver.find_elements(By.XPATH, '/html/body/div[1]/div/div/form/div[3]/div/div[1]/div[1]/input'):\n",
    "        WebDriverWait(webdriver, 5).until(ec.element_to_be_clickable((By.XPATH, '/html/body/div[1]/div/div/form/div[3]/div/div[1]/div[1]/input'))).click()\n",
    "    if webdriver.find_elements(By.XPATH, '/html/body/div[2]/div/div/div[2]'):\n",
    "        WebDriverWait(webdriver, 5).until(ec.element_to_be_clickable((By.XPATH, '/html/body/div[2]/div/div/div[2]'))).click()\n",
    "    webdriver.execute_script(\"window.scrollTo(0, 1080)\")\n",
    "\n",
    "    ad_list = webdriver.find_elements(By.CLASS_NAME, 'ListingItem')\n",
    "    for j in range(10):\n",
    "        ad_title = ad_list[j].find_element(By.TAG_NAME, 'h3').text.replace(' ', '_').replace('/', '-')\n",
    "        screenshot_save_directory = f'result/{car_brand}/{ad_title}_{j}/'\n",
    "\n",
    "        if not os.path.exists(screenshot_save_directory):\n",
    "            os.makedirs(screenshot_save_directory)\n",
    "        time.sleep(0.1)\n",
    "        WebDriverWait(webdriver, 10).until(ec.visibility_of_any_elements_located((By.CLASS_NAME, 'ListingItem')))[j].screenshot(screenshot_save_directory + f'{ad_title}.png')\n",
    "\n",
    "    soup = BeautifulSoup(webdriver.page_source, 'html.parser')\n",
    "    car_brand_links_directory = 'brand_links/'\n",
    "    if not os.path.exists(car_brand_links_directory):\n",
    "        os.makedirs(car_brand_links_directory)\n",
    "    with open(f'{car_brand_links_directory}{car_brand}.html', 'w', encoding=\"utf-8\") as file:\n",
    "        file.write(str(soup))\n",
    "\n",
    "webdriver.quit()"
   ],
   "metadata": {
    "collapsed": false,
    "pycharm": {
     "name": "#%%\n"
    }
   }
  },
  {
   "cell_type": "code",
   "execution_count": 36,
   "outputs": [],
   "source": [
    "\"\"\"Отбираем по 10 первых моделей машин каждой марки\"\"\"\n",
    "\n",
    "car_links = []\n",
    "links_limit = 10\n",
    "brand_directory = 'brand_links'\n",
    "if not os.path.exists(brand_directory):\n",
    "    os.makedirs(brand_directory)\n",
    "for file in os.listdir(brand_directory):\n",
    "    soup = BeautifulSoup(open(f'{brand_directory}/{file}', 'r', encoding=\"utf-8\").read(), 'html.parser')\n",
    "    counter = 0\n",
    "    for div_class in soup.find_all('div', class_='ListingItem__main'):\n",
    "        try:\n",
    "            car_link = div_class.find('a', class_='Link ListingItemTitle__link').get('href')\n",
    "            car_links.append(car_link)\n",
    "            counter += 1\n",
    "            if counter >= links_limit:\n",
    "                break\n",
    "        except AttributeError:\n",
    "            continue"
   ],
   "metadata": {
    "collapsed": false,
    "pycharm": {
     "name": "#%%\n"
    }
   }
  },
  {
   "cell_type": "code",
   "execution_count": 37,
   "outputs": [
    {
     "name": "stderr",
     "output_type": "stream",
     "text": [
      "100%|██████████| 100/100 [10:28<00:00,  6.29s/it]\n"
     ]
    }
   ],
   "source": [
    "links_limit = 10\n",
    "titles = []\n",
    "brand_directory = 'brand_links'\n",
    "if not os.path.exists(brand_directory):\n",
    "    os.makedirs(brand_directory)\n",
    "for file in os.listdir(brand_directory):\n",
    "    soup = BeautifulSoup(open(f'{brand_directory}/{file}', 'r', encoding=\"utf-8\").read(), 'html.parser')\n",
    "    counter = 0\n",
    "    for div_class in soup.find_all('div', class_='ListingItem__main'):\n",
    "        try:\n",
    "            title = div_class.find('h3', class_='ListingItemTitle ListingItem__title').text\n",
    "            titles.append(title)\n",
    "            counter += 1\n",
    "            if counter >= links_limit:\n",
    "                break\n",
    "        except AttributeError:\n",
    "            continue\n",
    "\n",
    "from selenium import webdriver\n",
    "\n",
    "options = Options()\n",
    "options.add_argument(\"--start-maximized\")\n",
    "options.add_argument('--disable-gpu')\n",
    "options.add_experimental_option(\"excludeSwitches\", [\"enable-automation\"])\n",
    "options.add_experimental_option('useAutomationExtension', False)\n",
    "\n",
    "webdriver = webdriver.Chrome(options=options)\n",
    "\n",
    "stealth(webdriver,\n",
    "        languages=[\"en-US\", \"en\"],\n",
    "        user_agent='Mozilla/5.0 (Windows NT 10.0; Win64; x64) AppleWebKit/537.36 (KHTML, like Gecko) Chrome/83.0.4103.53 Safari/537.36',\n",
    "        vendor=\"Google Inc.\",\n",
    "        platform=\"Win32\",\n",
    "        webgl_vendor=\"Intel Inc.\",\n",
    "        renderer=\"Intel Iris OpenGL Engine\",\n",
    "        fix_hairline=True,\n",
    "        )\n",
    "\n",
    "\"\"\"В созданную директорию марка машины/модель загружаем до 5ти фото из объявления\"\"\"\n",
    "\n",
    "for i in tqdm(range(len(car_links))):\n",
    "    try:\n",
    "        webdriver.get(car_links[i])\n",
    "        car_brand = car_links[i].split('/')[6]\n",
    "\n",
    "        if webdriver.find_elements(By.XPATH, '//*[@id=\"confirm-button\"]'):\n",
    "            WebDriverWait(webdriver, 5).until(ec.element_to_be_clickable((By.XPATH, '//*[@id=\"confirm-button\"]'))).click()\n",
    "        if webdriver.find_elements(By.XPATH, '/html/body/div[1]/div/div/form/div[3]/div/div[1]/div[1]/input'):\n",
    "            WebDriverWait(webdriver, 5).until(ec.element_to_be_clickable((By.XPATH, '/html/body/div[1]/div/div/form/div[3]/div/div[1]/div[1]/input'))).click()\n",
    "        time.sleep(3)\n",
    "        if webdriver.find_elements(By.XPATH, '/html/body/div[3]/div/div/div[2]'):\n",
    "            WebDriverWait(webdriver, 1).until(ec.element_to_be_clickable((By.XPATH, '/html/body/div[3]/div/div/div[2]'))).click()\n",
    "\n",
    "        soup = BeautifulSoup(webdriver.page_source, 'html.parser')\n",
    "\n",
    "        WebDriverWait(webdriver, 10).until(ec.element_to_be_clickable((By.XPATH, '//*[@id=\"app\"]/div/div[2]/div[3]/div/div[2]/div/div[2]/div/div[2]/div[5]/div[2]/div/div[2]/div[1]/div[4]/div/img')))\n",
    "        if webdriver.find_element(By.XPATH, '//*[@id=\"app\"]/div/div[2]/div[3]/div/div[2]/div/div[2]/div/div[2]/div[5]/div[2]/div/div[2]/div[1]/div[4]/div/img'):\n",
    "            WebDriverWait(webdriver, 10).until(ec.element_to_be_clickable((By.XPATH, '//*[@id=\"app\"]/div/div[2]/div[3]/div/div[2]/div/div[2]/div/div[2]/div[5]/div[2]/div/div[2]/div[1]/div[4]/div/img'))).click()\n",
    "\n",
    "        images = webdriver.find_elements(By.CLASS_NAME, 'ImageGalleryFullscreenVertical__image')\n",
    "\n",
    "        image_count = 0\n",
    "        image_limit = 5\n",
    "        reformat_title = str(titles[i]).replace(' ', '_').replace('/', '-')\n",
    "        if i > 9:\n",
    "            result_directory = f'result/{car_brand}/{reformat_title}_{(i - 10) % 10}/'  # Добавляем i из-за наличия дубликатов в объявлениях\n",
    "            if os.path.exists(result_directory):\n",
    "                for index, image in enumerate(images):\n",
    "                    image_url = image.get_attribute('src')\n",
    "                    if image_url:\n",
    "                        response = requests.get(image_url, stream=True)\n",
    "\n",
    "                        if not os.path.exists(result_directory):\n",
    "                            os.makedirs(result_directory)\n",
    "                        image_path = os.path.join(result_directory + f'{reformat_title}_{index + 1}.jpg')\n",
    "                        # Сохраняем изображение\n",
    "                        with open(image_path, 'wb') as file:\n",
    "                            for chunk in response.iter_content(chunk_size=128):\n",
    "                                file.write(chunk)\n",
    "                        image_count += 1\n",
    "                        if image_count >= image_limit:\n",
    "                            break\n",
    "\n",
    "        else:\n",
    "            result_directory = f'result/{car_brand}/' + f'{reformat_title}_{i}/'  # Добавляем i из-за наличия дубликатов в объявлениях\n",
    "            if os.path.exists(result_directory):\n",
    "                for index, image in enumerate(images):\n",
    "                    image_url = image.get_attribute('src')\n",
    "                    if image_url:\n",
    "                        response = requests.get(image_url, stream=True)\n",
    "\n",
    "                        if not os.path.exists(result_directory):\n",
    "                            os.makedirs(result_directory)\n",
    "                        image_path = os.path.join(result_directory + f'{reformat_title}_{index + 1}.jpg')\n",
    "                        # Сохраняем изображение\n",
    "                        with open(image_path, 'wb') as file:\n",
    "                            for chunk in response.iter_content(chunk_size=128):\n",
    "                                file.write(chunk)\n",
    "                        image_count += 1\n",
    "                        if image_count >= image_limit:\n",
    "                            break\n",
    "\n",
    "    except TimeoutException:\n",
    "        continue\n",
    "\n",
    "webdriver.quit()"
   ],
   "metadata": {
    "collapsed": false,
    "pycharm": {
     "name": "#%%\n"
    }
   }
  },
  {
   "cell_type": "code",
   "execution_count": 38,
   "outputs": [],
   "source": [
    "\"\"\"Добавляем результат в архив\"\"\"\n",
    "\n",
    "result = zipfile.ZipFile('result.zip', 'w')\n",
    "for root, dirs, files in os.walk('result'):\n",
    "    for file in files:\n",
    "        result.write(os.path.join(root, file))\n",
    "\n",
    "result.close()"
   ],
   "metadata": {
    "collapsed": false,
    "pycharm": {
     "name": "#%%\n"
    }
   }
  },
  {
   "cell_type": "code",
   "execution_count": 39,
   "outputs": [],
   "source": [
    "\"\"\"Удаляем созданные для работы директории\"\"\"\n",
    "\n",
    "shutil.rmtree('result', ignore_errors=False, onerror=None)\n",
    "shutil.rmtree('brand_links', ignore_errors=False, onerror=None)"
   ],
   "metadata": {
    "collapsed": false,
    "pycharm": {
     "name": "#%%\n"
    }
   }
  }
 ],
 "metadata": {
  "kernelspec": {
   "display_name": "Python 3",
   "language": "python",
   "name": "python3"
  },
  "language_info": {
   "codemirror_mode": {
    "name": "ipython",
    "version": 2
   },
   "file_extension": ".py",
   "mimetype": "text/x-python",
   "name": "python",
   "nbconvert_exporter": "python",
   "pygments_lexer": "ipython2",
   "version": "2.7.6"
  }
 },
 "nbformat": 4,
 "nbformat_minor": 0
}